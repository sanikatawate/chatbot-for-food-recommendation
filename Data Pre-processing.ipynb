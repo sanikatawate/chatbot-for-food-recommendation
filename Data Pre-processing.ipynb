{
 "cells": [
  {
   "cell_type": "markdown",
   "id": "a940dd04",
   "metadata": {},
   "source": [
    "# Importing Libraries"
   ]
  },
  {
   "cell_type": "code",
   "execution_count": 3,
   "id": "80caf560",
   "metadata": {},
   "outputs": [],
   "source": [
    "import pandas as pd\n",
    "import matplotlib.pyplot as plt\n",
    "import seaborn as sns"
   ]
  },
  {
   "cell_type": "markdown",
   "id": "ae915a90",
   "metadata": {},
   "source": [
    "# Reading Data"
   ]
  },
  {
   "cell_type": "code",
   "execution_count": 4,
   "id": "979a885d",
   "metadata": {},
   "outputs": [
    {
     "data": {
      "text/html": [
       "<div>\n",
       "<style scoped>\n",
       "    .dataframe tbody tr th:only-of-type {\n",
       "        vertical-align: middle;\n",
       "    }\n",
       "\n",
       "    .dataframe tbody tr th {\n",
       "        vertical-align: top;\n",
       "    }\n",
       "\n",
       "    .dataframe thead th {\n",
       "        text-align: right;\n",
       "    }\n",
       "</style>\n",
       "<table border=\"1\" class=\"dataframe\">\n",
       "  <thead>\n",
       "    <tr style=\"text-align: right;\">\n",
       "      <th></th>\n",
       "      <th>client_id</th>\n",
       "      <th>order_id</th>\n",
       "      <th>item_name</th>\n",
       "      <th>quantity</th>\n",
       "      <th>price</th>\n",
       "      <th>date</th>\n",
       "    </tr>\n",
       "  </thead>\n",
       "  <tbody>\n",
       "    <tr>\n",
       "      <th>0</th>\n",
       "      <td>ahNzfnNldmVucm9vbXMtc2VjdXJlcicLEhpuaWdodGxvb3...</td>\n",
       "      <td>ahNzfnNldmVucm9vbXMtc2VjdXJlciULEhtuaWdodGxvb3...</td>\n",
       "      <td>Cosmonaut</td>\n",
       "      <td>1</td>\n",
       "      <td>16.0</td>\n",
       "      <td>2022-01-24</td>\n",
       "    </tr>\n",
       "    <tr>\n",
       "      <th>1</th>\n",
       "      <td>ahNzfnNldmVucm9vbXMtc2VjdXJlcicLEhpuaWdodGxvb3...</td>\n",
       "      <td>ahNzfnNldmVucm9vbXMtc2VjdXJlciULEhtuaWdodGxvb3...</td>\n",
       "      <td>Krombacher</td>\n",
       "      <td>1</td>\n",
       "      <td>8.0</td>\n",
       "      <td>2022-01-24</td>\n",
       "    </tr>\n",
       "    <tr>\n",
       "      <th>2</th>\n",
       "      <td>ahNzfnNldmVucm9vbXMtc2VjdXJlcicLEhpuaWdodGxvb3...</td>\n",
       "      <td>ahNzfnNldmVucm9vbXMtc2VjdXJlciULEhtuaWdodGxvb3...</td>\n",
       "      <td>Ahi Tuna</td>\n",
       "      <td>1</td>\n",
       "      <td>23.0</td>\n",
       "      <td>2022-01-24</td>\n",
       "    </tr>\n",
       "    <tr>\n",
       "      <th>3</th>\n",
       "      <td>ahNzfnNldmVucm9vbXMtc2VjdXJlcicLEhpuaWdodGxvb3...</td>\n",
       "      <td>ahNzfnNldmVucm9vbXMtc2VjdXJlciULEhtuaWdodGxvb3...</td>\n",
       "      <td>Little Gem Salad</td>\n",
       "      <td>1</td>\n",
       "      <td>14.0</td>\n",
       "      <td>2022-01-24</td>\n",
       "    </tr>\n",
       "    <tr>\n",
       "      <th>4</th>\n",
       "      <td>ahNzfnNldmVucm9vbXMtc2VjdXJlcicLEhpuaWdodGxvb3...</td>\n",
       "      <td>ahNzfnNldmVucm9vbXMtc2VjdXJlciULEhtuaWdodGxvb3...</td>\n",
       "      <td>Fire Pie</td>\n",
       "      <td>1</td>\n",
       "      <td>20.0</td>\n",
       "      <td>2022-01-24</td>\n",
       "    </tr>\n",
       "  </tbody>\n",
       "</table>\n",
       "</div>"
      ],
      "text/plain": [
       "                                           client_id  \\\n",
       "0  ahNzfnNldmVucm9vbXMtc2VjdXJlcicLEhpuaWdodGxvb3...   \n",
       "1  ahNzfnNldmVucm9vbXMtc2VjdXJlcicLEhpuaWdodGxvb3...   \n",
       "2  ahNzfnNldmVucm9vbXMtc2VjdXJlcicLEhpuaWdodGxvb3...   \n",
       "3  ahNzfnNldmVucm9vbXMtc2VjdXJlcicLEhpuaWdodGxvb3...   \n",
       "4  ahNzfnNldmVucm9vbXMtc2VjdXJlcicLEhpuaWdodGxvb3...   \n",
       "\n",
       "                                            order_id         item_name  \\\n",
       "0  ahNzfnNldmVucm9vbXMtc2VjdXJlciULEhtuaWdodGxvb3...         Cosmonaut   \n",
       "1  ahNzfnNldmVucm9vbXMtc2VjdXJlciULEhtuaWdodGxvb3...        Krombacher   \n",
       "2  ahNzfnNldmVucm9vbXMtc2VjdXJlciULEhtuaWdodGxvb3...          Ahi Tuna   \n",
       "3  ahNzfnNldmVucm9vbXMtc2VjdXJlciULEhtuaWdodGxvb3...  Little Gem Salad   \n",
       "4  ahNzfnNldmVucm9vbXMtc2VjdXJlciULEhtuaWdodGxvb3...          Fire Pie   \n",
       "\n",
       "   quantity  price        date  \n",
       "0         1   16.0  2022-01-24  \n",
       "1         1    8.0  2022-01-24  \n",
       "2         1   23.0  2022-01-24  \n",
       "3         1   14.0  2022-01-24  \n",
       "4         1   20.0  2022-01-24  "
      ]
     },
     "execution_count": 4,
     "metadata": {},
     "output_type": "execute_result"
    }
   ],
   "source": [
    "df = pd.read_csv('jetson-sample-data.csv')\n",
    "df.head()"
   ]
  },
  {
   "cell_type": "code",
   "execution_count": 112,
   "id": "464c403f",
   "metadata": {},
   "outputs": [
    {
     "name": "stdout",
     "output_type": "stream",
     "text": [
      "<class 'pandas.core.frame.DataFrame'>\n",
      "RangeIndex: 687911 entries, 0 to 687910\n",
      "Data columns (total 6 columns):\n",
      " #   Column     Non-Null Count   Dtype  \n",
      "---  ------     --------------   -----  \n",
      " 0   client_id  687911 non-null  object \n",
      " 1   order_id   687911 non-null  object \n",
      " 2   item_name  687911 non-null  object \n",
      " 3   quantity   687911 non-null  int64  \n",
      " 4   price      687911 non-null  float64\n",
      " 5   date       687911 non-null  object \n",
      "dtypes: float64(1), int64(1), object(4)\n",
      "memory usage: 31.5+ MB\n"
     ]
    }
   ],
   "source": [
    "df.info()"
   ]
  },
  {
   "cell_type": "markdown",
   "id": "0fe4d288",
   "metadata": {},
   "source": [
    "# Data Exploration"
   ]
  },
  {
   "cell_type": "markdown",
   "id": "0ca285f7",
   "metadata": {},
   "source": [
    "CLIENT ID"
   ]
  },
  {
   "cell_type": "code",
   "execution_count": 113,
   "id": "9165cff6",
   "metadata": {},
   "outputs": [
    {
     "data": {
      "text/plain": [
       "66493"
      ]
     },
     "execution_count": 113,
     "metadata": {},
     "output_type": "execute_result"
    }
   ],
   "source": [
    "df['client_id'].nunique()"
   ]
  },
  {
   "cell_type": "markdown",
   "id": "6a67e80c",
   "metadata": {},
   "source": [
    "ORDER ID"
   ]
  },
  {
   "cell_type": "code",
   "execution_count": 114,
   "id": "c6e6f231",
   "metadata": {},
   "outputs": [
    {
     "data": {
      "text/plain": [
       "80517"
      ]
     },
     "execution_count": 114,
     "metadata": {},
     "output_type": "execute_result"
    }
   ],
   "source": [
    "df['order_id'].nunique()"
   ]
  },
  {
   "cell_type": "markdown",
   "id": "364460cb",
   "metadata": {},
   "source": [
    "ITEM NAME"
   ]
  },
  {
   "cell_type": "code",
   "execution_count": 115,
   "id": "f5a05c28",
   "metadata": {},
   "outputs": [
    {
     "data": {
      "text/plain": [
       "2153"
      ]
     },
     "execution_count": 115,
     "metadata": {},
     "output_type": "execute_result"
    }
   ],
   "source": [
    "df['item_name'].nunique()"
   ]
  },
  {
   "cell_type": "code",
   "execution_count": 116,
   "id": "32227de7",
   "metadata": {},
   "outputs": [
    {
     "data": {
      "image/png": "[encoded data removed]",
      "text/plain": [
       "<Figure size 640x480 with 1 Axes>"
      ]
     },
     "metadata": {},
     "output_type": "display_data"
    }
   ],
   "source": [
    "#Plotting top 10 most oredered food\n",
    "sns.barplot(y=df['item_name'].value_counts()[0:10].index, x=df['item_name'].value_counts()[0:10])\n",
    "plt.ylabel=\"Item Name\"\n",
    "plt.xlabel=\"Total Order\""
   ]
  },
  {
   "cell_type": "code",
   "execution_count": 15,
   "id": "be4d0c8a",
   "metadata": {},
   "outputs": [
    {
     "data": {
      "text/plain": [
       "145       18.0\n",
       "248       18.0\n",
       "257       18.0\n",
       "312       18.0\n",
       "360       18.0\n",
       "          ... \n",
       "687771    72.0\n",
       "687793    18.0\n",
       "687796    18.0\n",
       "687810    18.0\n",
       "687812    18.0\n",
       "Name: price, Length: 13081, dtype: float64"
      ]
     },
     "execution_count": 15,
     "metadata": {},
     "output_type": "execute_result"
    }
   ],
   "source": [
    "df[df['item_name']=='The \"etta\" Chopped Salad']['price']"
   ]
  },
  {
   "cell_type": "code",
   "execution_count": 117,
   "id": "60b1956b",
   "metadata": {},
   "outputs": [
    {
     "data": {
      "image/png": "[encoded data removed]",
      "text/plain": [
       "<Figure size 640x480 with 1 Axes>"
      ]
     },
     "metadata": {},
     "output_type": "display_data"
    }
   ],
   "source": [
    "#Plotting top 10 least ordered food\n",
    "sns.barplot(y=df['item_name'].value_counts()[2143:].index, x=df['item_name'].value_counts()[2143:])\n",
    "plt.ylabel=\"Item Name\"\n",
    "plt.xlabel=\"Total Order\""
   ]
  },
  {
   "cell_type": "markdown",
   "id": "8b936891",
   "metadata": {},
   "source": [
    "PRICE"
   ]
  },
  {
   "cell_type": "code",
   "execution_count": 118,
   "id": "f5671ab3",
   "metadata": {},
   "outputs": [
    {
     "data": {
      "text/plain": [
       "(array([2.00000e+00, 0.00000e+00, 0.00000e+00, 6.86383e+05, 1.42200e+03,\n",
       "        7.30000e+01, 2.20000e+01, 5.00000e+00, 2.00000e+00, 2.00000e+00]),\n",
       " array([-4430. , -3289.5, -2149. , -1008.5,   132. ,  1272.5,  2413. ,\n",
       "         3553.5,  4694. ,  5834.5,  6975. ]),\n",
       " <BarContainer object of 10 artists>)"
      ]
     },
     "execution_count": 118,
     "metadata": {},
     "output_type": "execute_result"
    },
    {
     "data": {
      "image/png": "[encoded data removed]",
      "text/plain": [
       "<Figure size 640x480 with 1 Axes>"
      ]
     },
     "metadata": {},
     "output_type": "display_data"
    }
   ],
   "source": [
    "#Plotting price\n",
    "plt.hist(df['price'], bins=10)"
   ]
  },
  {
   "cell_type": "code",
   "execution_count": 119,
   "id": "cbf7855d",
   "metadata": {},
   "outputs": [
    {
     "data": {
      "text/plain": [
       "count    687911.000000\n",
       "mean         17.440815\n",
       "std          38.704005\n",
       "min       -4430.000000\n",
       "25%          12.000000\n",
       "50%          16.000000\n",
       "75%          20.000000\n",
       "max        6975.000000\n",
       "Name: price, dtype: float64"
      ]
     },
     "execution_count": 119,
     "metadata": {},
     "output_type": "execute_result"
    }
   ],
   "source": [
    "df['price'].describe()"
   ]
  },
  {
   "cell_type": "code",
   "execution_count": 9,
   "id": "e5fa3102",
   "metadata": {},
   "outputs": [],
   "source": [
    "#Dropping rows where price is negative\n",
    "df = df[df['price']>=1][['client_id', 'order_id', 'item_name', 'quantity', 'price', 'date']]"
   ]
  },
  {
   "cell_type": "code",
   "execution_count": 122,
   "id": "18beb589",
   "metadata": {},
   "outputs": [
    {
     "name": "stderr",
     "output_type": "stream",
     "text": [
      "C:\\Users\\sanik\\AppData\\Local\\Temp\\ipykernel_24552\\3818146123.py:2: UserWarning: Boolean Series key will be reindexed to match DataFrame index.\n",
      "  df[df['price']/df['quantity']>=800][df['quantity']>0][['item_name', 'quantity', 'price', 'date']]\n"
     ]
    },
    {
     "data": {
      "text/html": [
       "<div>\n",
       "<style scoped>\n",
       "    .dataframe tbody tr th:only-of-type {\n",
       "        vertical-align: middle;\n",
       "    }\n",
       "\n",
       "    .dataframe tbody tr th {\n",
       "        vertical-align: top;\n",
       "    }\n",
       "\n",
       "    .dataframe thead th {\n",
       "        text-align: right;\n",
       "    }\n",
       "</style>\n",
       "<table border=\"1\" class=\"dataframe\">\n",
       "  <thead>\n",
       "    <tr style=\"text-align: right;\">\n",
       "      <th></th>\n",
       "      <th>item_name</th>\n",
       "      <th>quantity</th>\n",
       "      <th>price</th>\n",
       "      <th>date</th>\n",
       "    </tr>\n",
       "  </thead>\n",
       "  <tbody>\n",
       "    <tr>\n",
       "      <th>113112</th>\n",
       "      <td>Liquor Package</td>\n",
       "      <td>1</td>\n",
       "      <td>1200.0</td>\n",
       "      <td>2023-03-08</td>\n",
       "    </tr>\n",
       "    <tr>\n",
       "      <th>134898</th>\n",
       "      <td>Room Fee</td>\n",
       "      <td>1</td>\n",
       "      <td>1744.0</td>\n",
       "      <td>2022-11-05</td>\n",
       "    </tr>\n",
       "    <tr>\n",
       "      <th>186692</th>\n",
       "      <td>Room Fee</td>\n",
       "      <td>1</td>\n",
       "      <td>1800.0</td>\n",
       "      <td>2021-08-18</td>\n",
       "    </tr>\n",
       "    <tr>\n",
       "      <th>293092</th>\n",
       "      <td>Room Rental</td>\n",
       "      <td>1</td>\n",
       "      <td>3033.1</td>\n",
       "      <td>2022-08-17</td>\n",
       "    </tr>\n",
       "    <tr>\n",
       "      <th>323497</th>\n",
       "      <td>Room Rental</td>\n",
       "      <td>1</td>\n",
       "      <td>1547.0</td>\n",
       "      <td>2022-06-15</td>\n",
       "    </tr>\n",
       "    <tr>\n",
       "      <th>475022</th>\n",
       "      <td>Open Food</td>\n",
       "      <td>1</td>\n",
       "      <td>2470.0</td>\n",
       "      <td>2021-04-17</td>\n",
       "    </tr>\n",
       "    <tr>\n",
       "      <th>521689</th>\n",
       "      <td>Brunch Beverage Package</td>\n",
       "      <td>1</td>\n",
       "      <td>1400.0</td>\n",
       "      <td>2022-07-02</td>\n",
       "    </tr>\n",
       "    <tr>\n",
       "      <th>566810</th>\n",
       "      <td>Room Fee</td>\n",
       "      <td>1</td>\n",
       "      <td>908.0</td>\n",
       "      <td>2022-11-12</td>\n",
       "    </tr>\n",
       "    <tr>\n",
       "      <th>604485</th>\n",
       "      <td>$45 pp Lunch Menu</td>\n",
       "      <td>1</td>\n",
       "      <td>3600.0</td>\n",
       "      <td>2023-02-23</td>\n",
       "    </tr>\n",
       "  </tbody>\n",
       "</table>\n",
       "</div>"
      ],
      "text/plain": [
       "                      item_name  quantity   price        date\n",
       "113112           Liquor Package         1  1200.0  2023-03-08\n",
       "134898                 Room Fee         1  1744.0  2022-11-05\n",
       "186692                 Room Fee         1  1800.0  2021-08-18\n",
       "293092              Room Rental         1  3033.1  2022-08-17\n",
       "323497              Room Rental         1  1547.0  2022-06-15\n",
       "475022                Open Food         1  2470.0  2021-04-17\n",
       "521689  Brunch Beverage Package         1  1400.0  2022-07-02\n",
       "566810                 Room Fee         1   908.0  2022-11-12\n",
       "604485        $45 pp Lunch Menu         1  3600.0  2023-02-23"
      ]
     },
     "execution_count": 122,
     "metadata": {},
     "output_type": "execute_result"
    }
   ],
   "source": [
    "#Studying the most priced items\n",
    "df[df['price']/df['quantity']>=800][df['quantity']>0][['item_name', 'quantity', 'price', 'date']]"
   ]
  },
  {
   "cell_type": "code",
   "execution_count": 123,
   "id": "4fa23392",
   "metadata": {},
   "outputs": [],
   "source": [
    "#Dropping rows with invalid item names\n",
    "df1 = df[ (df['item_name'].isin(['Room Fee', 'Room Rental']))][['item_name', 'quantity', 'price', 'date']]\n",
    "df1.head()\n",
    "df.drop(df1.index, axis=0,inplace=True)"
   ]
  },
  {
   "cell_type": "markdown",
   "id": "d1c2b9b4",
   "metadata": {},
   "source": [
    "QUANTITY"
   ]
  },
  {
   "cell_type": "code",
   "execution_count": 124,
   "id": "502d8878",
   "metadata": {},
   "outputs": [
    {
     "data": {
      "text/plain": [
       "count    665814.000000\n",
       "mean          1.159794\n",
       "std           1.371359\n",
       "min           0.000000\n",
       "25%           1.000000\n",
       "50%           1.000000\n",
       "75%           1.000000\n",
       "max         200.000000\n",
       "Name: quantity, dtype: float64"
      ]
     },
     "execution_count": 124,
     "metadata": {},
     "output_type": "execute_result"
    }
   ],
   "source": [
    "df['quantity'].describe()"
   ]
  },
  {
   "cell_type": "code",
   "execution_count": 125,
   "id": "595512ce",
   "metadata": {},
   "outputs": [],
   "source": [
    "#Dropping rows with quantity =0\n",
    "df = df[df['quantity']>0 ][['client_id', 'order_id', 'item_name', 'quantity', 'price', 'date']] "
   ]
  },
  {
   "cell_type": "code",
   "execution_count": 126,
   "id": "9cdd1acf",
   "metadata": {},
   "outputs": [
    {
     "data": {
      "text/html": [
       "<div>\n",
       "<style scoped>\n",
       "    .dataframe tbody tr th:only-of-type {\n",
       "        vertical-align: middle;\n",
       "    }\n",
       "\n",
       "    .dataframe tbody tr th {\n",
       "        vertical-align: top;\n",
       "    }\n",
       "\n",
       "    .dataframe thead th {\n",
       "        text-align: right;\n",
       "    }\n",
       "</style>\n",
       "<table border=\"1\" class=\"dataframe\">\n",
       "  <thead>\n",
       "    <tr style=\"text-align: right;\">\n",
       "      <th></th>\n",
       "      <th>item_name</th>\n",
       "      <th>quantity</th>\n",
       "      <th>price</th>\n",
       "      <th>date</th>\n",
       "    </tr>\n",
       "  </thead>\n",
       "  <tbody>\n",
       "    <tr>\n",
       "      <th>123032</th>\n",
       "      <td>Fire-Baked Focaccia</td>\n",
       "      <td>150</td>\n",
       "      <td>450.0</td>\n",
       "      <td>2022-09-22</td>\n",
       "    </tr>\n",
       "    <tr>\n",
       "      <th>123033</th>\n",
       "      <td>Passed Shrimp</td>\n",
       "      <td>150</td>\n",
       "      <td>450.0</td>\n",
       "      <td>2022-09-22</td>\n",
       "    </tr>\n",
       "    <tr>\n",
       "      <th>123034</th>\n",
       "      <td>Crispy Chicken Nuggets</td>\n",
       "      <td>150</td>\n",
       "      <td>450.0</td>\n",
       "      <td>2022-09-22</td>\n",
       "    </tr>\n",
       "    <tr>\n",
       "      <th>123035</th>\n",
       "      <td>Passed Meatballs</td>\n",
       "      <td>150</td>\n",
       "      <td>450.0</td>\n",
       "      <td>2022-09-22</td>\n",
       "    </tr>\n",
       "    <tr>\n",
       "      <th>123036</th>\n",
       "      <td>Truffle Potato Croquette</td>\n",
       "      <td>150</td>\n",
       "      <td>450.0</td>\n",
       "      <td>2022-09-22</td>\n",
       "    </tr>\n",
       "    <tr>\n",
       "      <th>201742</th>\n",
       "      <td>Passed Meatballs</td>\n",
       "      <td>200</td>\n",
       "      <td>600.0</td>\n",
       "      <td>2021-10-08</td>\n",
       "    </tr>\n",
       "    <tr>\n",
       "      <th>201749</th>\n",
       "      <td>Crispy Chicken Nuggets</td>\n",
       "      <td>150</td>\n",
       "      <td>450.0</td>\n",
       "      <td>2021-10-08</td>\n",
       "    </tr>\n",
       "  </tbody>\n",
       "</table>\n",
       "</div>"
      ],
      "text/plain": [
       "                       item_name  quantity  price        date\n",
       "123032       Fire-Baked Focaccia       150  450.0  2022-09-22\n",
       "123033             Passed Shrimp       150  450.0  2022-09-22\n",
       "123034    Crispy Chicken Nuggets       150  450.0  2022-09-22\n",
       "123035          Passed Meatballs       150  450.0  2022-09-22\n",
       "123036  Truffle Potato Croquette       150  450.0  2022-09-22\n",
       "201742          Passed Meatballs       200  600.0  2021-10-08\n",
       "201749    Crispy Chicken Nuggets       150  450.0  2021-10-08"
      ]
     },
     "execution_count": 126,
     "metadata": {},
     "output_type": "execute_result"
    }
   ],
   "source": [
    "#Studying data with high quantity values\n",
    "df[df['quantity']>=150][['item_name', 'quantity', 'price', 'date']]"
   ]
  },
  {
   "cell_type": "markdown",
   "id": "0d87f929",
   "metadata": {},
   "source": [
    "DATE"
   ]
  },
  {
   "cell_type": "code",
   "execution_count": 127,
   "id": "c14eb611",
   "metadata": {},
   "outputs": [],
   "source": [
    "df['date']=pd.to_datetime(df['date'])\n",
    "df['day']= df['date'].dt.date\n",
    "df['month']= df['date'].dt.month\n",
    "df['year']= df['date'].dt.year"
   ]
  },
  {
   "cell_type": "code",
   "execution_count": 128,
   "id": "7e69d1b5",
   "metadata": {},
   "outputs": [
    {
     "data": {
      "text/html": [
       "<div>\n",
       "<style scoped>\n",
       "    .dataframe tbody tr th:only-of-type {\n",
       "        vertical-align: middle;\n",
       "    }\n",
       "\n",
       "    .dataframe tbody tr th {\n",
       "        vertical-align: top;\n",
       "    }\n",
       "\n",
       "    .dataframe thead th {\n",
       "        text-align: right;\n",
       "    }\n",
       "</style>\n",
       "<table border=\"1\" class=\"dataframe\">\n",
       "  <thead>\n",
       "    <tr style=\"text-align: right;\">\n",
       "      <th></th>\n",
       "      <th>client_id</th>\n",
       "      <th>order_id</th>\n",
       "      <th>item_name</th>\n",
       "      <th>quantity</th>\n",
       "      <th>price</th>\n",
       "      <th>date</th>\n",
       "      <th>day</th>\n",
       "      <th>month</th>\n",
       "      <th>year</th>\n",
       "    </tr>\n",
       "  </thead>\n",
       "  <tbody>\n",
       "    <tr>\n",
       "      <th>0</th>\n",
       "      <td>ahNzfnNldmVucm9vbXMtc2VjdXJlcicLEhpuaWdodGxvb3...</td>\n",
       "      <td>ahNzfnNldmVucm9vbXMtc2VjdXJlciULEhtuaWdodGxvb3...</td>\n",
       "      <td>Cosmonaut</td>\n",
       "      <td>1</td>\n",
       "      <td>16.0</td>\n",
       "      <td>2022-01-24</td>\n",
       "      <td>2022-01-24</td>\n",
       "      <td>1</td>\n",
       "      <td>2022</td>\n",
       "    </tr>\n",
       "    <tr>\n",
       "      <th>1</th>\n",
       "      <td>ahNzfnNldmVucm9vbXMtc2VjdXJlcicLEhpuaWdodGxvb3...</td>\n",
       "      <td>ahNzfnNldmVucm9vbXMtc2VjdXJlciULEhtuaWdodGxvb3...</td>\n",
       "      <td>Krombacher</td>\n",
       "      <td>1</td>\n",
       "      <td>8.0</td>\n",
       "      <td>2022-01-24</td>\n",
       "      <td>2022-01-24</td>\n",
       "      <td>1</td>\n",
       "      <td>2022</td>\n",
       "    </tr>\n",
       "    <tr>\n",
       "      <th>2</th>\n",
       "      <td>ahNzfnNldmVucm9vbXMtc2VjdXJlcicLEhpuaWdodGxvb3...</td>\n",
       "      <td>ahNzfnNldmVucm9vbXMtc2VjdXJlciULEhtuaWdodGxvb3...</td>\n",
       "      <td>Ahi Tuna</td>\n",
       "      <td>1</td>\n",
       "      <td>23.0</td>\n",
       "      <td>2022-01-24</td>\n",
       "      <td>2022-01-24</td>\n",
       "      <td>1</td>\n",
       "      <td>2022</td>\n",
       "    </tr>\n",
       "    <tr>\n",
       "      <th>3</th>\n",
       "      <td>ahNzfnNldmVucm9vbXMtc2VjdXJlcicLEhpuaWdodGxvb3...</td>\n",
       "      <td>ahNzfnNldmVucm9vbXMtc2VjdXJlciULEhtuaWdodGxvb3...</td>\n",
       "      <td>Little Gem Salad</td>\n",
       "      <td>1</td>\n",
       "      <td>14.0</td>\n",
       "      <td>2022-01-24</td>\n",
       "      <td>2022-01-24</td>\n",
       "      <td>1</td>\n",
       "      <td>2022</td>\n",
       "    </tr>\n",
       "    <tr>\n",
       "      <th>4</th>\n",
       "      <td>ahNzfnNldmVucm9vbXMtc2VjdXJlcicLEhpuaWdodGxvb3...</td>\n",
       "      <td>ahNzfnNldmVucm9vbXMtc2VjdXJlciULEhtuaWdodGxvb3...</td>\n",
       "      <td>Fire Pie</td>\n",
       "      <td>1</td>\n",
       "      <td>20.0</td>\n",
       "      <td>2022-01-24</td>\n",
       "      <td>2022-01-24</td>\n",
       "      <td>1</td>\n",
       "      <td>2022</td>\n",
       "    </tr>\n",
       "  </tbody>\n",
       "</table>\n",
       "</div>"
      ],
      "text/plain": [
       "                                           client_id  \\\n",
       "0  ahNzfnNldmVucm9vbXMtc2VjdXJlcicLEhpuaWdodGxvb3...   \n",
       "1  ahNzfnNldmVucm9vbXMtc2VjdXJlcicLEhpuaWdodGxvb3...   \n",
       "2  ahNzfnNldmVucm9vbXMtc2VjdXJlcicLEhpuaWdodGxvb3...   \n",
       "3  ahNzfnNldmVucm9vbXMtc2VjdXJlcicLEhpuaWdodGxvb3...   \n",
       "4  ahNzfnNldmVucm9vbXMtc2VjdXJlcicLEhpuaWdodGxvb3...   \n",
       "\n",
       "                                            order_id         item_name  \\\n",
       "0  ahNzfnNldmVucm9vbXMtc2VjdXJlciULEhtuaWdodGxvb3...         Cosmonaut   \n",
       "1  ahNzfnNldmVucm9vbXMtc2VjdXJlciULEhtuaWdodGxvb3...        Krombacher   \n",
       "2  ahNzfnNldmVucm9vbXMtc2VjdXJlciULEhtuaWdodGxvb3...          Ahi Tuna   \n",
       "3  ahNzfnNldmVucm9vbXMtc2VjdXJlciULEhtuaWdodGxvb3...  Little Gem Salad   \n",
       "4  ahNzfnNldmVucm9vbXMtc2VjdXJlciULEhtuaWdodGxvb3...          Fire Pie   \n",
       "\n",
       "   quantity  price       date         day  month  year  \n",
       "0         1   16.0 2022-01-24  2022-01-24      1  2022  \n",
       "1         1    8.0 2022-01-24  2022-01-24      1  2022  \n",
       "2         1   23.0 2022-01-24  2022-01-24      1  2022  \n",
       "3         1   14.0 2022-01-24  2022-01-24      1  2022  \n",
       "4         1   20.0 2022-01-24  2022-01-24      1  2022  "
      ]
     },
     "execution_count": 128,
     "metadata": {},
     "output_type": "execute_result"
    }
   ],
   "source": [
    "#Data after pre-processing\n",
    "df.head()"
   ]
  },
  {
   "cell_type": "code",
   "execution_count": 150,
   "id": "9a1a6a07",
   "metadata": {},
   "outputs": [],
   "source": [
    "df.to_csv('data.csv')"
   ]
  }
 ],
 "metadata": {
  "kernelspec": {
   "display_name": "Python 3 (ipykernel)",
   "language": "python",
   "name": "python3"
  },
  "language_info": {
   "codemirror_mode": {
    "name": "ipython",
    "version": 3
   },
   "file_extension": ".py",
   "mimetype": "text/x-python",
   "name": "python",
   "nbconvert_exporter": "python",
   "pygments_lexer": "ipython3",
   "version": "3.10.9"
  }
 },
 "nbformat": 4,
 "nbformat_minor": 5
}
