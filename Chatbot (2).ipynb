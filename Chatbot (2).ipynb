{
 "cells": [
  {
   "cell_type": "code",
   "execution_count": 1,
   "id": "a70e82f9",
   "metadata": {},
   "outputs": [
    {
     "name": "stdout",
     "output_type": "stream",
     "text": [
      "Requirement already satisfied: python-dotenv in c:\\users\\sanik\\anaconda3\\lib\\site-packages (1.0.0)\n",
      "Note: you may need to restart the kernel to use updated packages.\n"
     ]
    }
   ],
   "source": [
    "pip install python-dotenv"
   ]
  },
  {
   "cell_type": "code",
   "execution_count": 2,
   "id": "7eb57c31",
   "metadata": {},
   "outputs": [],
   "source": [
    "import os\n",
    "from dotenv import load_dotenv\n",
    "\n",
    "load_dotenv()\n",
    "API_KEY = os.getenv('OPENAI_API_KEY')"
   ]
  },
  {
   "cell_type": "code",
   "execution_count": 3,
   "id": "f782349a",
   "metadata": {},
   "outputs": [],
   "source": [
    "import pandas as pd\n",
    "import numpy as np"
   ]
  },
  {
   "cell_type": "code",
   "execution_count": 4,
   "id": "bc199953",
   "metadata": {},
   "outputs": [
    {
     "data": {
      "text/html": [
       "<div>\n",
       "<style scoped>\n",
       "    .dataframe tbody tr th:only-of-type {\n",
       "        vertical-align: middle;\n",
       "    }\n",
       "\n",
       "    .dataframe tbody tr th {\n",
       "        vertical-align: top;\n",
       "    }\n",
       "\n",
       "    .dataframe thead th {\n",
       "        text-align: right;\n",
       "    }\n",
       "</style>\n",
       "<table border=\"1\" class=\"dataframe\">\n",
       "  <thead>\n",
       "    <tr style=\"text-align: right;\">\n",
       "      <th></th>\n",
       "      <th>client_id</th>\n",
       "      <th>order_id</th>\n",
       "      <th>item_name</th>\n",
       "      <th>quantity</th>\n",
       "      <th>price</th>\n",
       "      <th>date</th>\n",
       "    </tr>\n",
       "  </thead>\n",
       "  <tbody>\n",
       "    <tr>\n",
       "      <th>0</th>\n",
       "      <td>ahNzfnNldmVucm9vbXMtc2VjdXJlcicLEhpuaWdodGxvb3...</td>\n",
       "      <td>ahNzfnNldmVucm9vbXMtc2VjdXJlciULEhtuaWdodGxvb3...</td>\n",
       "      <td>Cosmonaut</td>\n",
       "      <td>1</td>\n",
       "      <td>16.0</td>\n",
       "      <td>2022-01-24</td>\n",
       "    </tr>\n",
       "    <tr>\n",
       "      <th>1</th>\n",
       "      <td>ahNzfnNldmVucm9vbXMtc2VjdXJlcicLEhpuaWdodGxvb3...</td>\n",
       "      <td>ahNzfnNldmVucm9vbXMtc2VjdXJlciULEhtuaWdodGxvb3...</td>\n",
       "      <td>Krombacher</td>\n",
       "      <td>1</td>\n",
       "      <td>8.0</td>\n",
       "      <td>2022-01-24</td>\n",
       "    </tr>\n",
       "    <tr>\n",
       "      <th>2</th>\n",
       "      <td>ahNzfnNldmVucm9vbXMtc2VjdXJlcicLEhpuaWdodGxvb3...</td>\n",
       "      <td>ahNzfnNldmVucm9vbXMtc2VjdXJlciULEhtuaWdodGxvb3...</td>\n",
       "      <td>Ahi Tuna</td>\n",
       "      <td>1</td>\n",
       "      <td>23.0</td>\n",
       "      <td>2022-01-24</td>\n",
       "    </tr>\n",
       "    <tr>\n",
       "      <th>3</th>\n",
       "      <td>ahNzfnNldmVucm9vbXMtc2VjdXJlcicLEhpuaWdodGxvb3...</td>\n",
       "      <td>ahNzfnNldmVucm9vbXMtc2VjdXJlciULEhtuaWdodGxvb3...</td>\n",
       "      <td>Little Gem Salad</td>\n",
       "      <td>1</td>\n",
       "      <td>14.0</td>\n",
       "      <td>2022-01-24</td>\n",
       "    </tr>\n",
       "    <tr>\n",
       "      <th>4</th>\n",
       "      <td>ahNzfnNldmVucm9vbXMtc2VjdXJlcicLEhpuaWdodGxvb3...</td>\n",
       "      <td>ahNzfnNldmVucm9vbXMtc2VjdXJlciULEhtuaWdodGxvb3...</td>\n",
       "      <td>Fire Pie</td>\n",
       "      <td>1</td>\n",
       "      <td>20.0</td>\n",
       "      <td>2022-01-24</td>\n",
       "    </tr>\n",
       "  </tbody>\n",
       "</table>\n",
       "</div>"
      ],
      "text/plain": [
       "                                           client_id  \\\n",
       "0  ahNzfnNldmVucm9vbXMtc2VjdXJlcicLEhpuaWdodGxvb3...   \n",
       "1  ahNzfnNldmVucm9vbXMtc2VjdXJlcicLEhpuaWdodGxvb3...   \n",
       "2  ahNzfnNldmVucm9vbXMtc2VjdXJlcicLEhpuaWdodGxvb3...   \n",
       "3  ahNzfnNldmVucm9vbXMtc2VjdXJlcicLEhpuaWdodGxvb3...   \n",
       "4  ahNzfnNldmVucm9vbXMtc2VjdXJlcicLEhpuaWdodGxvb3...   \n",
       "\n",
       "                                            order_id         item_name  \\\n",
       "0  ahNzfnNldmVucm9vbXMtc2VjdXJlciULEhtuaWdodGxvb3...         Cosmonaut   \n",
       "1  ahNzfnNldmVucm9vbXMtc2VjdXJlciULEhtuaWdodGxvb3...        Krombacher   \n",
       "2  ahNzfnNldmVucm9vbXMtc2VjdXJlciULEhtuaWdodGxvb3...          Ahi Tuna   \n",
       "3  ahNzfnNldmVucm9vbXMtc2VjdXJlciULEhtuaWdodGxvb3...  Little Gem Salad   \n",
       "4  ahNzfnNldmVucm9vbXMtc2VjdXJlciULEhtuaWdodGxvb3...          Fire Pie   \n",
       "\n",
       "   quantity  price        date  \n",
       "0         1   16.0  2022-01-24  \n",
       "1         1    8.0  2022-01-24  \n",
       "2         1   23.0  2022-01-24  \n",
       "3         1   14.0  2022-01-24  \n",
       "4         1   20.0  2022-01-24  "
      ]
     },
     "execution_count": 4,
     "metadata": {},
     "output_type": "execute_result"
    }
   ],
   "source": [
    "df = pd.read_csv('data.csv', )\n",
    "df.drop(df.columns[0], axis=1, inplace=True)\n",
    "df.head()"
   ]
  },
  {
   "cell_type": "code",
   "execution_count": 5,
   "id": "0fba0706",
   "metadata": {},
   "outputs": [],
   "source": [
    "df.rename(columns = {'item_name':'Left Hand Side'}, inplace=True)"
   ]
  },
  {
   "cell_type": "code",
   "execution_count": 6,
   "id": "565e24f2",
   "metadata": {
    "scrolled": true
   },
   "outputs": [
    {
     "name": "stderr",
     "output_type": "stream",
     "text": [
      "C:\\Users\\sanik\\AppData\\Local\\Temp\\ipykernel_10288\\1843619590.py:1: FutureWarning: The default value of numeric_only in DataFrameGroupBy.mean is deprecated. In a future version, numeric_only will default to False. Either specify numeric_only or select only columns which should be valid for the function.\n",
      "  df1 = df.groupby(df['Left Hand Side']).mean()\n"
     ]
    }
   ],
   "source": [
    "df1 = df.groupby(df['Left Hand Side']).mean()"
   ]
  },
  {
   "cell_type": "code",
   "execution_count": 7,
   "id": "e88af6ca",
   "metadata": {},
   "outputs": [],
   "source": [
    "df1.drop(['quantity'], axis=1, inplace=True)"
   ]
  },
  {
   "cell_type": "code",
   "execution_count": 8,
   "id": "4b44cae3",
   "metadata": {},
   "outputs": [
    {
     "data": {
      "text/html": [
       "<div>\n",
       "<style scoped>\n",
       "    .dataframe tbody tr th:only-of-type {\n",
       "        vertical-align: middle;\n",
       "    }\n",
       "\n",
       "    .dataframe tbody tr th {\n",
       "        vertical-align: top;\n",
       "    }\n",
       "\n",
       "    .dataframe thead th {\n",
       "        text-align: right;\n",
       "    }\n",
       "</style>\n",
       "<table border=\"1\" class=\"dataframe\">\n",
       "  <thead>\n",
       "    <tr style=\"text-align: right;\">\n",
       "      <th></th>\n",
       "      <th>Left Hand Side</th>\n",
       "      <th>Right Hand Side</th>\n",
       "    </tr>\n",
       "  </thead>\n",
       "  <tbody>\n",
       "    <tr>\n",
       "      <th>0</th>\n",
       "      <td>*Beefeter</td>\n",
       "      <td>Etta Old Fashioned</td>\n",
       "    </tr>\n",
       "    <tr>\n",
       "      <th>1</th>\n",
       "      <td>*Gran Centenario</td>\n",
       "      <td>Etta Rita</td>\n",
       "    </tr>\n",
       "    <tr>\n",
       "      <th>2</th>\n",
       "      <td>*Playpen</td>\n",
       "      <td>Etta Old Fashioned</td>\n",
       "    </tr>\n",
       "    <tr>\n",
       "      <th>3</th>\n",
       "      <td>Acorn Squash</td>\n",
       "      <td>Brussels Sprouts</td>\n",
       "    </tr>\n",
       "    <tr>\n",
       "      <th>4</th>\n",
       "      <td>Acorn Squash</td>\n",
       "      <td>Burrata</td>\n",
       "    </tr>\n",
       "  </tbody>\n",
       "</table>\n",
       "</div>"
      ],
      "text/plain": [
       "     Left Hand Side     Right Hand Side\n",
       "0         *Beefeter  Etta Old Fashioned\n",
       "1  *Gran Centenario           Etta Rita\n",
       "2          *Playpen  Etta Old Fashioned\n",
       "3      Acorn Squash    Brussels Sprouts\n",
       "4      Acorn Squash             Burrata"
      ]
     },
     "execution_count": 8,
     "metadata": {},
     "output_type": "execute_result"
    }
   ],
   "source": [
    "df2 = pd.read_csv('Model.csv')\n",
    "df2.drop(df2.columns[0], axis=1, inplace=True)\n",
    "df2.head()"
   ]
  },
  {
   "cell_type": "code",
   "execution_count": 9,
   "id": "5e99770d",
   "metadata": {},
   "outputs": [],
   "source": [
    "df0 = pd.merge(df2, df1, on='Left Hand Side', how='left')"
   ]
  },
  {
   "cell_type": "code",
   "execution_count": 10,
   "id": "691ddc00",
   "metadata": {},
   "outputs": [],
   "source": [
    "df0.to_csv('menu.csv')"
   ]
  },
  {
   "cell_type": "code",
   "execution_count": 11,
   "id": "cc51f72a",
   "metadata": {},
   "outputs": [
    {
     "name": "stdout",
     "output_type": "stream",
     "text": [
      "Requirement already satisfied: openai in c:\\users\\sanik\\anaconda3\\lib\\site-packages (0.27.8)\n",
      "Requirement already satisfied: aiohttp in c:\\users\\sanik\\anaconda3\\lib\\site-packages (from openai) (3.8.4)\n",
      "Requirement already satisfied: tqdm in c:\\users\\sanik\\anaconda3\\lib\\site-packages (from openai) (4.64.1)\n",
      "Requirement already satisfied: requests>=2.20 in c:\\users\\sanik\\anaconda3\\lib\\site-packages (from openai) (2.28.1)\n",
      "Requirement already satisfied: urllib3<1.27,>=1.21.1 in c:\\users\\sanik\\anaconda3\\lib\\site-packages (from requests>=2.20->openai) (1.26.14)\n",
      "Requirement already satisfied: charset-normalizer<3,>=2 in c:\\users\\sanik\\anaconda3\\lib\\site-packages (from requests>=2.20->openai) (2.0.4)\n",
      "Requirement already satisfied: certifi>=2017.4.17 in c:\\users\\sanik\\anaconda3\\lib\\site-packages (from requests>=2.20->openai) (2022.12.7)\n",
      "Requirement already satisfied: idna<4,>=2.5 in c:\\users\\sanik\\anaconda3\\lib\\site-packages (from requests>=2.20->openai) (3.4)\n",
      "Requirement already satisfied: aiosignal>=1.1.2 in c:\\users\\sanik\\anaconda3\\lib\\site-packages (from aiohttp->openai) (1.3.1)\n",
      "Requirement already satisfied: async-timeout<5.0,>=4.0.0a3 in c:\\users\\sanik\\anaconda3\\lib\\site-packages (from aiohttp->openai) (4.0.2)\n",
      "Requirement already satisfied: frozenlist>=1.1.1 in c:\\users\\sanik\\anaconda3\\lib\\site-packages (from aiohttp->openai) (1.3.3)\n",
      "Requirement already satisfied: yarl<2.0,>=1.0 in c:\\users\\sanik\\anaconda3\\lib\\site-packages (from aiohttp->openai) (1.8.2)\n",
      "Requirement already satisfied: multidict<7.0,>=4.5 in c:\\users\\sanik\\anaconda3\\lib\\site-packages (from aiohttp->openai) (6.0.4)\n",
      "Requirement already satisfied: attrs>=17.3.0 in c:\\users\\sanik\\anaconda3\\lib\\site-packages (from aiohttp->openai) (22.1.0)\n",
      "Requirement already satisfied: colorama in c:\\users\\sanik\\anaconda3\\lib\\site-packages (from tqdm->openai) (0.4.6)\n"
     ]
    }
   ],
   "source": [
    "!pip install --upgrade openai"
   ]
  },
  {
   "cell_type": "code",
   "execution_count": null,
   "id": "0b9b84ea",
   "metadata": {},
   "outputs": [],
   "source": [
    "import csv\n",
    "import openai\n",
    "\n",
    "# Set up your OpenAI API credentials\n",
    "openai.api_key = API_KEY\n",
    "\n",
    "# Define your OpenAI GPT-3 model and its parameters\n",
    "model_engine = \"text-davinci-003\"\n",
    "model_name = \"EatMeets\"\n",
    "\n",
    "# Read the CSV file\n",
    "menu_items = []\n",
    "cart=[]\n",
    "flag=0\n",
    "with open(\"menu.csv\", \"r\") as csvfile:\n",
    "    reader = csv.DictReader(csvfile)\n",
    "    for row in reader:\n",
    "        menu_items.append(row)\n",
    "\n",
    "# Define a function to find a menu item by name\n",
    "def find_menu_item(input_text, menu_items):\n",
    "    for item in menu_items:\n",
    "        if item['Left Hand Side'].strip().lower() in input_text.strip().lower():\n",
    "            cart[item['Left Hand Side']]=item['price']\n",
    "            return item\n",
    "        elif \"cart\" in input_text.strip().lower():\n",
    "            return(\"cart\")\n",
    "    return \"I'm sorry, I don't understand.\"\n",
    "\n",
    "\n",
    "response_text = f\"Sure, Here is everything you Ordered, {cart}! Anything else you'd like to order?\"\n",
    "\n",
    "\n",
    "cart= {}\n",
    "flag=0\n",
    "# Define a function to generate a response to the user's input\n",
    "def generate_response(input_text, menu_items, cart, flag):\n",
    "    input_text = input_text.strip().lower()\n",
    "    menu_item = find_menu_item(input_text, menu_items)\n",
    "    response_text = menu_item\n",
    "    if(response_text != \"I'm sorry, I don't understand.\" \n",
    "        and response_text !=\"cart\" and flag==0 and menu_item['Right Hand Side'] not in cart):\n",
    "        flag=1\n",
    "        response_text = f\"Sure, I suggest you try our {menu_item['Right Hand Side']}! Anything else you'd like to order?\"\n",
    "        print(f\"{model_name}: {response_text}\")\n",
    "    elif(response_text == \"cart\"):\n",
    "        tc = 0\n",
    "        order = ''\n",
    "        for i in cart:\n",
    "            order = order + ' '+i\n",
    "            tc+=float(cart[i])\n",
    "        tc = round(tc, 2)\n",
    "        response_text = f\"Sure, Here is everything you Ordered, {order}! Your total cost is ${tc} Anything else you'd like to order?\"\n",
    "        print(f\"{model_name}: {response_text}\")\n",
    "    else:\n",
    "#         response_text = f\"I'm sorry, but I don't understand what you are trying to communicate. Could you please rephrase or provide more context so I can better assist you??\"\n",
    "#         print(f\"{model_name}: {response_text}\")\n",
    "        response = openai.Completion.create(\n",
    "            engine=model_engine,\n",
    "            prompt=f\"input: {input_text}\\n\",\n",
    "            max_tokens=50,\n",
    "            n=1,\n",
    "            stop=None,\n",
    "            temperature=0.5\n",
    "        )\n",
    "        response_text = response.choices[0].text.strip()\n",
    "        print(f\"{model_name}: {response_text}\")\n",
    "\n",
    "# Set up the initial cart\n",
    "\n",
    "\n",
    "# Train the OpenAI model using some sample inputs and outputs\n",
    "formatted_training_data = \"\"\"\n",
    "EatMeets: Hello! How can I help you today?\n",
    "\n",
    "input: I'd like to order a burger please.\n",
    "EatMeets: Sure thing, one burger added to your cart!\n",
    "\n",
    "input: Can you show me my Cart?\n",
    "EatMeets: Sure, Here is everything you Ordered, 1 Burger\n",
    "\n",
    "input: Can I get a pizza with pepperoni and mushrooms?\n",
    "EatMeets: Absolutely, our pizza with pepperoni and mushrooms is a customer favorite!We also recommend Our seafood paella is one of our most popular dishes. \n",
    "\n",
    "input: Can you show me my Cart?\n",
    "EatMeets: Sure, Here is everything you Ordered, 1 Burger, 1 Pizza, 1 Mushroom\n",
    "\n",
    "input: I'll have the paella then.\n",
    "EatMeets: Excellent choice, I think you'll really enjoy it!\n",
    "\n",
    "input: Can you show me my Cart?\n",
    "EatMeets: Sure, Here is everything you Ordered, 1 Burger, 1 Pizza, 1 Mushroom, 1 Paella\n",
    "\n",
    "\"\"\"\n",
    "response = openai.Completion.create(\n",
    "    engine=model_engine,\n",
    "    prompt=formatted_training_data,\n",
    "    max_tokens=1024,\n",
    "    n=1,\n",
    "    stop=None,\n",
    "    frequency_penalty=0,\n",
    "    presence_penalty=0,\n",
    ")\n",
    "\n",
    "# Save the trained model\n",
    "model_id = response[\"model\"]\n",
    "\n",
    "# Test the trained model by generating a response to a prompt\n",
    "flag=0\n",
    "while True:\n",
    "    flag=0\n",
    "    prompt = input(\"You: \")\n",
    "    response_text = generate_response(prompt, menu_items, cart, flag)"
   ]
  }
 ],
 "metadata": {
  "kernelspec": {
   "display_name": "Python 3 (ipykernel)",
   "language": "python",
   "name": "python3"
  },
  "language_info": {
   "codemirror_mode": {
    "name": "ipython",
    "version": 3
   },
   "file_extension": ".py",
   "mimetype": "text/x-python",
   "name": "python",
   "nbconvert_exporter": "python",
   "pygments_lexer": "ipython3",
   "version": "3.10.9"
  }
 },
 "nbformat": 4,
 "nbformat_minor": 5
}
