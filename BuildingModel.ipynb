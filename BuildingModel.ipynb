{
 "cells": [
  {
   "cell_type": "code",
   "execution_count": 111,
   "id": "5716eb3c",
   "metadata": {},
   "outputs": [],
   "source": [
    "import pandas as pd\n",
    "import numpy as np"
   ]
  },
  {
   "cell_type": "code",
   "execution_count": 112,
   "id": "0ca58bf1",
   "metadata": {},
   "outputs": [
    {
     "data": {
      "text/html": [
       "<div>\n",
       "<style scoped>\n",
       "    .dataframe tbody tr th:only-of-type {\n",
       "        vertical-align: middle;\n",
       "    }\n",
       "\n",
       "    .dataframe tbody tr th {\n",
       "        vertical-align: top;\n",
       "    }\n",
       "\n",
       "    .dataframe thead th {\n",
       "        text-align: right;\n",
       "    }\n",
       "</style>\n",
       "<table border=\"1\" class=\"dataframe\">\n",
       "  <thead>\n",
       "    <tr style=\"text-align: right;\">\n",
       "      <th></th>\n",
       "      <th>client_id</th>\n",
       "      <th>order_id</th>\n",
       "      <th>item_name</th>\n",
       "      <th>quantity</th>\n",
       "      <th>price</th>\n",
       "      <th>date</th>\n",
       "    </tr>\n",
       "  </thead>\n",
       "  <tbody>\n",
       "    <tr>\n",
       "      <th>0</th>\n",
       "      <td>ahNzfnNldmVucm9vbXMtc2VjdXJlcicLEhpuaWdodGxvb3...</td>\n",
       "      <td>ahNzfnNldmVucm9vbXMtc2VjdXJlciULEhtuaWdodGxvb3...</td>\n",
       "      <td>Cosmonaut</td>\n",
       "      <td>1</td>\n",
       "      <td>16.0</td>\n",
       "      <td>2022-01-24</td>\n",
       "    </tr>\n",
       "    <tr>\n",
       "      <th>1</th>\n",
       "      <td>ahNzfnNldmVucm9vbXMtc2VjdXJlcicLEhpuaWdodGxvb3...</td>\n",
       "      <td>ahNzfnNldmVucm9vbXMtc2VjdXJlciULEhtuaWdodGxvb3...</td>\n",
       "      <td>Krombacher</td>\n",
       "      <td>1</td>\n",
       "      <td>8.0</td>\n",
       "      <td>2022-01-24</td>\n",
       "    </tr>\n",
       "    <tr>\n",
       "      <th>2</th>\n",
       "      <td>ahNzfnNldmVucm9vbXMtc2VjdXJlcicLEhpuaWdodGxvb3...</td>\n",
       "      <td>ahNzfnNldmVucm9vbXMtc2VjdXJlciULEhtuaWdodGxvb3...</td>\n",
       "      <td>Ahi Tuna</td>\n",
       "      <td>1</td>\n",
       "      <td>23.0</td>\n",
       "      <td>2022-01-24</td>\n",
       "    </tr>\n",
       "    <tr>\n",
       "      <th>3</th>\n",
       "      <td>ahNzfnNldmVucm9vbXMtc2VjdXJlcicLEhpuaWdodGxvb3...</td>\n",
       "      <td>ahNzfnNldmVucm9vbXMtc2VjdXJlciULEhtuaWdodGxvb3...</td>\n",
       "      <td>Little Gem Salad</td>\n",
       "      <td>1</td>\n",
       "      <td>14.0</td>\n",
       "      <td>2022-01-24</td>\n",
       "    </tr>\n",
       "    <tr>\n",
       "      <th>4</th>\n",
       "      <td>ahNzfnNldmVucm9vbXMtc2VjdXJlcicLEhpuaWdodGxvb3...</td>\n",
       "      <td>ahNzfnNldmVucm9vbXMtc2VjdXJlciULEhtuaWdodGxvb3...</td>\n",
       "      <td>Fire Pie</td>\n",
       "      <td>1</td>\n",
       "      <td>20.0</td>\n",
       "      <td>2022-01-24</td>\n",
       "    </tr>\n",
       "  </tbody>\n",
       "</table>\n",
       "</div>"
      ],
      "text/plain": [
       "                                           client_id  \\\n",
       "0  ahNzfnNldmVucm9vbXMtc2VjdXJlcicLEhpuaWdodGxvb3...   \n",
       "1  ahNzfnNldmVucm9vbXMtc2VjdXJlcicLEhpuaWdodGxvb3...   \n",
       "2  ahNzfnNldmVucm9vbXMtc2VjdXJlcicLEhpuaWdodGxvb3...   \n",
       "3  ahNzfnNldmVucm9vbXMtc2VjdXJlcicLEhpuaWdodGxvb3...   \n",
       "4  ahNzfnNldmVucm9vbXMtc2VjdXJlcicLEhpuaWdodGxvb3...   \n",
       "\n",
       "                                            order_id         item_name  \\\n",
       "0  ahNzfnNldmVucm9vbXMtc2VjdXJlciULEhtuaWdodGxvb3...         Cosmonaut   \n",
       "1  ahNzfnNldmVucm9vbXMtc2VjdXJlciULEhtuaWdodGxvb3...        Krombacher   \n",
       "2  ahNzfnNldmVucm9vbXMtc2VjdXJlciULEhtuaWdodGxvb3...          Ahi Tuna   \n",
       "3  ahNzfnNldmVucm9vbXMtc2VjdXJlciULEhtuaWdodGxvb3...  Little Gem Salad   \n",
       "4  ahNzfnNldmVucm9vbXMtc2VjdXJlciULEhtuaWdodGxvb3...          Fire Pie   \n",
       "\n",
       "   quantity  price        date  \n",
       "0         1   16.0  2022-01-24  \n",
       "1         1    8.0  2022-01-24  \n",
       "2         1   23.0  2022-01-24  \n",
       "3         1   14.0  2022-01-24  \n",
       "4         1   20.0  2022-01-24  "
      ]
     },
     "execution_count": 112,
     "metadata": {},
     "output_type": "execute_result"
    }
   ],
   "source": [
    "df = pd.read_csv('data.csv', )\n",
    "df.drop(df.columns[0], axis=1, inplace=True)\n",
    "df.head()"
   ]
  },
  {
   "cell_type": "code",
   "execution_count": 113,
   "id": "d96b8667",
   "metadata": {},
   "outputs": [
    {
     "data": {
      "text/html": [
       "<div>\n",
       "<style scoped>\n",
       "    .dataframe tbody tr th:only-of-type {\n",
       "        vertical-align: middle;\n",
       "    }\n",
       "\n",
       "    .dataframe tbody tr th {\n",
       "        vertical-align: top;\n",
       "    }\n",
       "\n",
       "    .dataframe thead th {\n",
       "        text-align: right;\n",
       "    }\n",
       "</style>\n",
       "<table border=\"1\" class=\"dataframe\">\n",
       "  <thead>\n",
       "    <tr style=\"text-align: right;\">\n",
       "      <th></th>\n",
       "      <th>order_id</th>\n",
       "      <th>item_name</th>\n",
       "    </tr>\n",
       "  </thead>\n",
       "  <tbody>\n",
       "    <tr>\n",
       "      <th>0</th>\n",
       "      <td>ahNzfnNldmVucm9vbXMtc2VjdXJlciULEhtuaWdodGxvb3...</td>\n",
       "      <td>[Mimosa Package, Fire Pie, Breakfast Sandwich,...</td>\n",
       "    </tr>\n",
       "    <tr>\n",
       "      <th>1</th>\n",
       "      <td>ahNzfnNldmVucm9vbXMtc2VjdXJlciULEhtuaWdodGxvb3...</td>\n",
       "      <td>[Focaccia, Iced Tea, Bubbling Shrimp, Hearth R...</td>\n",
       "    </tr>\n",
       "    <tr>\n",
       "      <th>2</th>\n",
       "      <td>ahNzfnNldmVucm9vbXMtc2VjdXJlciULEhtuaWdodGxvb3...</td>\n",
       "      <td>[sunset on damen, Margaritas For Everyone, Moc...</td>\n",
       "    </tr>\n",
       "    <tr>\n",
       "      <th>3</th>\n",
       "      <td>ahNzfnNldmVucm9vbXMtc2VjdXJlciULEhtuaWdodGxvb3...</td>\n",
       "      <td>[Well Tequila (Centenario Plata), Fire Pie, Pe...</td>\n",
       "    </tr>\n",
       "    <tr>\n",
       "      <th>4</th>\n",
       "      <td>ahNzfnNldmVucm9vbXMtc2VjdXJlciULEhtuaWdodGxvb3...</td>\n",
       "      <td>[Lyre's Amalfi Spritz N/A, Focaccia, Grilled C...</td>\n",
       "    </tr>\n",
       "  </tbody>\n",
       "</table>\n",
       "</div>"
      ],
      "text/plain": [
       "                                            order_id  \\\n",
       "0  ahNzfnNldmVucm9vbXMtc2VjdXJlciULEhtuaWdodGxvb3...   \n",
       "1  ahNzfnNldmVucm9vbXMtc2VjdXJlciULEhtuaWdodGxvb3...   \n",
       "2  ahNzfnNldmVucm9vbXMtc2VjdXJlciULEhtuaWdodGxvb3...   \n",
       "3  ahNzfnNldmVucm9vbXMtc2VjdXJlciULEhtuaWdodGxvb3...   \n",
       "4  ahNzfnNldmVucm9vbXMtc2VjdXJlciULEhtuaWdodGxvb3...   \n",
       "\n",
       "                                           item_name  \n",
       "0  [Mimosa Package, Fire Pie, Breakfast Sandwich,...  \n",
       "1  [Focaccia, Iced Tea, Bubbling Shrimp, Hearth R...  \n",
       "2  [sunset on damen, Margaritas For Everyone, Moc...  \n",
       "3  [Well Tequila (Centenario Plata), Fire Pie, Pe...  \n",
       "4  [Lyre's Amalfi Spritz N/A, Focaccia, Grilled C...  "
      ]
     },
     "execution_count": 113,
     "metadata": {},
     "output_type": "execute_result"
    }
   ],
   "source": [
    "#From Data Preprocessing steps we understand that, order_id attribute has alot of redundancy\n",
    "#Therefore we use groupBy on order_id\n",
    "grouped = df.groupby('order_id')['item_name'].apply(lambda x: list(x))\n",
    "df = pd.DataFrame({'order_id': grouped.index, 'item_name': grouped.values})\n",
    "df.head()"
   ]
  },
  {
   "cell_type": "code",
   "execution_count": 114,
   "id": "91b6df20",
   "metadata": {},
   "outputs": [],
   "source": [
    "t1=[]\n",
    "for i in range(0, 10000):\n",
    "    t1.append(df['item_name'][i])\n",
    "t2=[]\n",
    "for i in range(10000, 20000):\n",
    "    t2.append(df['item_name'][i])\n",
    "t3=[]\n",
    "for i in range(20000, 30000):\n",
    "    t3.append(df['item_name'][i])\n",
    "t4=[]\n",
    "for i in range(30000, 40000):\n",
    "    t4.append(df['item_name'][i])\n",
    "t5=[]\n",
    "for i in range(40000, 50000):\n",
    "    t5.append(df['item_name'][i])\n",
    "t6=[]\n",
    "for i in range(50000, 60000):\n",
    "    t6.append(df['item_name'][i])\n",
    "t7=[]\n",
    "for i in range(60000, 70000):\n",
    "    t7.append(df['item_name'][i])\n",
    "t8=[]\n",
    "for i in range(70000, 80492):\n",
    "    t8.append(df['item_name'][i])"
   ]
  },
  {
   "cell_type": "code",
   "execution_count": 115,
   "id": "bfc44eb1",
   "metadata": {},
   "outputs": [],
   "source": [
    "transactions = t1+t2+t3+t4+t5+t6+t7+t8"
   ]
  },
  {
   "cell_type": "code",
   "execution_count": 116,
   "id": "fa5b55a2",
   "metadata": {},
   "outputs": [
    {
     "name": "stdout",
     "output_type": "stream",
     "text": [
      "Requirement already satisfied: apyori in c:\\users\\sanik\\anaconda3\\lib\\site-packages (1.1.2)\n"
     ]
    }
   ],
   "source": [
    "!pip install apyori"
   ]
  },
  {
   "cell_type": "code",
   "execution_count": 117,
   "id": "0013387b",
   "metadata": {},
   "outputs": [],
   "source": [
    "from apyori import apriori\n",
    "rules = apriori(transactions = transactions, min_support = 0.001, min_confidence = 0.2, min_lift = 2, min_length = 2, max_length = 2)"
   ]
  },
  {
   "cell_type": "code",
   "execution_count": 118,
   "id": "5b18d5c6",
   "metadata": {},
   "outputs": [],
   "source": [
    "results = list(rules)"
   ]
  },
  {
   "cell_type": "code",
   "execution_count": 119,
   "id": "7c4eaa7b",
   "metadata": {},
   "outputs": [],
   "source": [
    "def inspect(results):\n",
    "    lhs         = [tuple(result[2][0][0])[0] for result in results]\n",
    "    rhs         = [tuple(result[2][0][1])[0] for result in results]\n",
    "    supports    = [result[1] for result in results]\n",
    "    confidences = [result[2][0][2] for result in results]\n",
    "    lifts       = [result[2][0][3] for result in results]\n",
    "    return list(zip(lhs, rhs, supports, confidences, lifts))\n",
    "resultsinDataFrame = pd.DataFrame(inspect(results), columns = ['Left Hand Side', 'Right Hand Side', 'Support', 'Confidence', 'Lift'])"
   ]
  },
  {
   "cell_type": "code",
   "execution_count": 120,
   "id": "94a2803e",
   "metadata": {},
   "outputs": [
    {
     "data": {
      "text/html": [
       "<div>\n",
       "<style scoped>\n",
       "    .dataframe tbody tr th:only-of-type {\n",
       "        vertical-align: middle;\n",
       "    }\n",
       "\n",
       "    .dataframe tbody tr th {\n",
       "        vertical-align: top;\n",
       "    }\n",
       "\n",
       "    .dataframe thead th {\n",
       "        text-align: right;\n",
       "    }\n",
       "</style>\n",
       "<table border=\"1\" class=\"dataframe\">\n",
       "  <thead>\n",
       "    <tr style=\"text-align: right;\">\n",
       "      <th></th>\n",
       "      <th>Left Hand Side</th>\n",
       "      <th>Right Hand Side</th>\n",
       "      <th>Support</th>\n",
       "      <th>Confidence</th>\n",
       "      <th>Lift</th>\n",
       "    </tr>\n",
       "  </thead>\n",
       "  <tbody>\n",
       "    <tr>\n",
       "      <th>0</th>\n",
       "      <td>*Beefeter</td>\n",
       "      <td>Etta Old Fashioned</td>\n",
       "      <td>0.001441</td>\n",
       "      <td>0.278177</td>\n",
       "      <td>4.030068</td>\n",
       "    </tr>\n",
       "    <tr>\n",
       "      <th>1</th>\n",
       "      <td>*Gran Centenario</td>\n",
       "      <td>Etta Rita</td>\n",
       "      <td>0.002385</td>\n",
       "      <td>0.291793</td>\n",
       "      <td>2.296346</td>\n",
       "    </tr>\n",
       "    <tr>\n",
       "      <th>2</th>\n",
       "      <td>*Playpen</td>\n",
       "      <td>Etta Old Fashioned</td>\n",
       "      <td>0.001118</td>\n",
       "      <td>0.205479</td>\n",
       "      <td>2.976863</td>\n",
       "    </tr>\n",
       "    <tr>\n",
       "      <th>3</th>\n",
       "      <td>Acorn Squash</td>\n",
       "      <td>Brussels Sprouts</td>\n",
       "      <td>0.003007</td>\n",
       "      <td>0.317169</td>\n",
       "      <td>7.738579</td>\n",
       "    </tr>\n",
       "    <tr>\n",
       "      <th>4</th>\n",
       "      <td>Acorn Squash</td>\n",
       "      <td>Burrata</td>\n",
       "      <td>0.002025</td>\n",
       "      <td>0.213630</td>\n",
       "      <td>2.592423</td>\n",
       "    </tr>\n",
       "  </tbody>\n",
       "</table>\n",
       "</div>"
      ],
      "text/plain": [
       "     Left Hand Side     Right Hand Side   Support  Confidence      Lift\n",
       "0         *Beefeter  Etta Old Fashioned  0.001441    0.278177  4.030068\n",
       "1  *Gran Centenario           Etta Rita  0.002385    0.291793  2.296346\n",
       "2          *Playpen  Etta Old Fashioned  0.001118    0.205479  2.976863\n",
       "3      Acorn Squash    Brussels Sprouts  0.003007    0.317169  7.738579\n",
       "4      Acorn Squash             Burrata  0.002025    0.213630  2.592423"
      ]
     },
     "execution_count": 120,
     "metadata": {},
     "output_type": "execute_result"
    }
   ],
   "source": [
    "resultsinDataFrame.head()"
   ]
  },
  {
   "cell_type": "code",
   "execution_count": 121,
   "id": "da00e917",
   "metadata": {},
   "outputs": [],
   "source": [
    "data = resultsinDataFrame[['Left Hand Side', 'Right Hand Side']]"
   ]
  },
  {
   "cell_type": "code",
   "execution_count": 124,
   "id": "24b020e9",
   "metadata": {},
   "outputs": [],
   "source": [
    "data.to_csv('Model.csv')"
   ]
  }
 ],
 "metadata": {
  "kernelspec": {
   "display_name": "Python 3 (ipykernel)",
   "language": "python",
   "name": "python3"
  },
  "language_info": {
   "codemirror_mode": {
    "name": "ipython",
    "version": 3
   },
   "file_extension": ".py",
   "mimetype": "text/x-python",
   "name": "python",
   "nbconvert_exporter": "python",
   "pygments_lexer": "ipython3",
   "version": "3.10.9"
  }
 },
 "nbformat": 4,
 "nbformat_minor": 5
}
